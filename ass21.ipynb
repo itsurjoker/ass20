{
 "cells": [
  {
   "cell_type": "code",
   "execution_count": null,
   "id": "732941bb-2b0e-4508-8025-4d011a494636",
   "metadata": {},
   "outputs": [],
   "source": [
    "#Q1.\n",
    "\n",
    "#1.pd.read_csv(): This function is used to read data from a CSV file into a Pandas DataFrame.\n",
    "\n",
    "import pandas as pd\n",
    "\n",
    "# Read CSV file into DataFrame\n",
    "data = pd.read_csv('data.csv')\n",
    "\n",
    "print(data.head())\n",
    "\n",
    "#2.df.head(): The head() function is used to display the first few rows of a DataFrame.\n",
    "\n",
    "import pandas as pd\n",
    "\n",
    "# Create a sample DataFrame\n",
    "data = {'Name': ['Alice', 'Bob', 'Charlie', 'David', 'Eve'],\n",
    "        'Age': [25, 30, 22, 28, 24]}\n",
    "\n",
    "df = pd.DataFrame(data)\n",
    "\n",
    "# Display the first few rows\n",
    "print(df.head())\n",
    "\n",
    "#3.df.info(): This function provides a concise summary of a DataFrame, including information about the data types and non-null values in each column.\n",
    "\n",
    "import pandas as pd\n",
    "\n",
    "# Create a sample DataFrame\n",
    "data1 = {'Name': ['Alice', 'Bob', 'Charlie'],\n",
    "        'Age': [25, 30, 22]}\n",
    "\n",
    "df = pd.DataFrame(data1)\n",
    "\n",
    "# Display DataFrame information\n",
    "df.info()\n",
    "\n",
    "#4.df.groupby(): The groupby() function is used to group data in a DataFrame based on one or more columns and then apply aggregate functions.\n",
    "\n",
    "import pandas as pd\n",
    "\n",
    "# Create a sample DataFrame\n",
    "data2 = {'Name': ['Alice', 'Bob', 'Charlie', 'David', 'Eve'],\n",
    "        'Department': ['HR', 'IT', 'HR', 'IT', 'IT'],\n",
    "        'Salary': [50000, 60000, 55000, 65000, 70000]}\n",
    "\n",
    "df = pd.DataFrame(data2)\n",
    "\n",
    "# Group by Department and calculate average salary\n",
    "grouped = df.groupby('Department')['Salary'].mean()\n",
    "\n",
    "print(grouped)\n",
    "\n",
    "\n",
    "#5.df.plot(): This function is used to create basic plots directly from a DataFrame.\n",
    "\n",
    "import pandas as pd\n",
    "import matplotlib.pyplot as plt\n",
    "\n",
    "# Create a sample DataFrame\n",
    "data3 = {'Month': ['Jan', 'Feb', 'Mar', 'Apr', 'May'],\n",
    "        'Revenue': [1000, 1200, 900, 1500, 1800]}\n",
    "\n",
    "df = pd.DataFrame(data3)\n",
    "\n",
    "# Create a line plot of revenue\n",
    "df.plot(x='Month', y='Revenue', kind='line')\n",
    "plt.show()"
   ]
  },
  {
   "cell_type": "code",
   "execution_count": 1,
   "id": "2b9f5c14-ad47-45ed-95ac-1bcf8083f238",
   "metadata": {},
   "outputs": [
    {
     "name": "stdout",
     "output_type": "stream",
     "text": [
      "            A   B   C\n",
      "New_Index            \n",
      "1          10  40  70\n",
      "3          20  50  80\n",
      "5          30  60  90\n"
     ]
    }
   ],
   "source": [
    "#Q2.\n",
    "\n",
    "#We can achieve this by using the reset_index function along with a custom index. Here's a Python function that re-indexes the DataFrame as described:\n",
    "\n",
    "import pandas as pd\n",
    "\n",
    "def reindex_dataframe(df):\n",
    "    new_index = pd.Index(range(1, len(df) * 2, 2), name='New_Index')\n",
    "    df = df.reset_index(drop=True)\n",
    "    df.index = new_index\n",
    "    return df\n",
    "\n",
    "# Example usage:\n",
    "data = {'A': [10, 20, 30], 'B': [40, 50, 60], 'C': [70, 80, 90]}\n",
    "df = pd.DataFrame(data)\n",
    "\n",
    "new_df = reindex_dataframe(df)\n",
    "print(new_df)\n",
    "\n",
    "#In this function, we create a new index starting from 1 and incrementing by 2 for each row. We then reset the existing index of the DataFrame using reset_index(drop=True) to remove the old index column and finally assign the new index to the DataFrame."
   ]
  },
  {
   "cell_type": "code",
   "execution_count": 4,
   "id": "bafc4225-9291-48ba-9124-71a9e4d4041a",
   "metadata": {},
   "outputs": [
    {
     "name": "stdout",
     "output_type": "stream",
     "text": [
      "Sum of the first three values: 60\n"
     ]
    }
   ],
   "source": [
    "#Q3.\n",
    "\n",
    "import pandas as pd\n",
    "\n",
    "def calculate_sum_of_first_three(df):\n",
    "    if 'Values' not in df.columns:\n",
    "        print(\"Error: 'Values' column not found in DataFrame\")\n",
    "        return\n",
    "    \n",
    "    first_three_sum = df['Values'].head(3).sum()\n",
    "    print(\"Sum of the first three values:\", first_three_sum)\n",
    "\n",
    "# Example DataFrame\n",
    "data = {'Values': [10, 20, 30, 40, 50]}\n",
    "df = pd.DataFrame(data)\n",
    "\n",
    "# Call the function\n",
    "calculate_sum_of_first_three(df)"
   ]
  },
  {
   "cell_type": "code",
   "execution_count": 5,
   "id": "68f1ab6b-18e1-457d-a1f1-95afa4bf6331",
   "metadata": {},
   "outputs": [
    {
     "name": "stdout",
     "output_type": "stream",
     "text": [
      "                               Text  Word_Count\n",
      "0            This is a sample text.           5\n",
      "1  Another example with more words.           5\n",
      "2                       Short text.           2\n"
     ]
    }
   ],
   "source": [
    "#Q4.\n",
    "\n",
    "#We can achieve this by using the apply() function along with the split() function to split the text into words and then calculate the length of the resulting list to get the word count. Here's a Python function that does exactly that:\n",
    "\n",
    "import pandas as pd\n",
    "\n",
    "def add_word_count_column(df):\n",
    "    df['Word_Count'] = df['Text'].apply(lambda x: len(x.split()))\n",
    "    return df\n",
    "\n",
    "# Example usage\n",
    "data = {'Text': [\"This is a sample text.\", \"Another example with more words.\", \"Short text.\"]}\n",
    "df = pd.DataFrame(data)\n",
    "\n",
    "df_with_word_count = add_word_count_column(df)\n",
    "print(df_with_word_count)\n",
    "\n",
    "#This function add_word_count_column takes a DataFrame as input, applies a lambda function to each row in the 'Text' column to count the number of words, and then adds the 'Word_Count' column to the DataFrame. The example usage demonstrates how to use this function with a sample DataFrame."
   ]
  },
  {
   "cell_type": "code",
   "execution_count": 6,
   "id": "0f3b8c76-1ccc-4e0d-a76e-aa6c47390f55",
   "metadata": {},
   "outputs": [
    {
     "name": "stdout",
     "output_type": "stream",
     "text": [
      "6\n",
      "(3, 2)\n"
     ]
    }
   ],
   "source": [
    "#Q5.\n",
    "\n",
    "#DataFrame.size:\n",
    "#DataFrame.size returns the total number of elements in the DataFrame, which is the product of the number of rows and the number of columns.\n",
    "#This attribute provides a single integer value representing the total size of the DataFrame, including all its elements (cells).\n",
    "\n",
    "import pandas as pd\n",
    "\n",
    "data = {'A': [1, 2, 3], 'B': [4, 5, 6]}\n",
    "df = pd.DataFrame(data)\n",
    "\n",
    "print(df.size)  # Output: 6 (2 rows * 3 columns = 6 elements)\n",
    "\n",
    "\n",
    "#DataFrame.shape:\n",
    "#DataFrame.shape returns a tuple containing the number of rows and the number of columns in the DataFrame.\n",
    "#This attribute provides a clearer understanding of the DataFrame's structure by explicitly showing the dimensions.\n",
    "\n",
    "import pandas as pd\n",
    "\n",
    "data = {'A': [1, 2, 3], 'B': [4, 5, 6]}\n",
    "df = pd.DataFrame(data)\n",
    "\n",
    "print(df.shape)  # Output: (3, 2) (3 rows, 2 columns)\n",
    "\n",
    "\n",
    "#In summary, DataFrame.size provides the total number of elements in the DataFrame, while DataFrame.shape provides a tuple indicating the number of rows and columns. Depending on your needs, we might use one or the other to get the information about the DataFrame's dimensions."
   ]
  },
  {
   "cell_type": "code",
   "execution_count": null,
   "id": "cafb7b1f-8e41-4a45-86cb-fe05f4f25934",
   "metadata": {},
   "outputs": [],
   "source": [
    "#Q6.\n",
    "\n",
    "#We can use the read_excel() function to read data from an Excel file. This function allows us to read data from Excel files and create Pandas DataFrame objects, which we can then manipulate and analyze. Here's the basic syntax:\n",
    "import pandas as pd\n",
    "\n",
    "# Read an Excel file and create a DataFrame\n",
    "df = pd.read_excel('filename.xlsx')\n",
    "\n",
    "# You can also specify a specific sheet by name or index\n",
    "# df = pd.read_excel('filename.xlsx', sheet_name='Sheet1')\n",
    "# df = pd.read_excel('filename.xlsx', sheet_name=0)\n"
   ]
  },
  {
   "cell_type": "code",
   "execution_count": null,
   "id": "2991f74c-1952-4a9d-afcd-096a79b94e88",
   "metadata": {},
   "outputs": [],
   "source": [
    "#Q7.\n",
    "\n",
    "import pandas as pd\n",
    "\n",
    "def extract_username(email):\n",
    "    return email.split('@')[0]\n",
    "\n",
    "def add_username_column(df):\n",
    "    df['Username'] = df['Email'].apply(extract_username)\n",
    "    return df\n",
    "\n",
    "# Example usage\n",
    "data = {'Email': ['john.doe@example.com', 'jane.smith@example.com', 'bob.jones@example.com']}\n",
    "df = pd.DataFrame(data)\n",
    "\n",
    "df_with_username = add_username_column(df)\n",
    "print(df_with_username)\n",
    "\n",
    "#In this example, the extract_username function takes an email address as input and uses the split('@') method to split the email into a list containing the username and domain parts. Then, it returns the username part (index 0) of the list.\n",
    "\n",
    "#The add_username_column function applies the extract_username function to each row in the 'Email' column using the .apply() method, and then assigns the results to a new 'Username' column in the DataFrame. Finally, it returns the modified DataFrame."
   ]
  },
  {
   "cell_type": "code",
   "execution_count": 8,
   "id": "d2772e76-cc25-4035-97ee-052bbbf4438e",
   "metadata": {},
   "outputs": [
    {
     "name": "stdout",
     "output_type": "stream",
     "text": [
      "   A  B  C\n",
      "1  8  2  7\n",
      "2  6  9  4\n",
      "4  9  1  2\n"
     ]
    }
   ],
   "source": [
    "#Q8.\n",
    "\n",
    "import pandas as pd\n",
    "\n",
    "def select_rows(df):\n",
    "    selected_rows = df[(df['A'] > 5) & (df['B'] < 10)]\n",
    "    return selected_rows\n",
    "\n",
    "# Sample DataFrame\n",
    "data = {'A': [3, 8, 6, 2, 9],\n",
    "        'B': [5, 2, 9, 3, 1],\n",
    "        'C': [1, 7, 4, 5, 2]}\n",
    "df = pd.DataFrame(data)\n",
    "\n",
    "# Call the function and get the selected rows\n",
    "selected_df = select_rows(df)\n",
    "\n",
    "# Print the selected DataFrame\n",
    "print(selected_df)\n",
    "\n",
    "#The select_rows function filters the DataFrame based on the conditions specified and returns a new DataFrame containing only the selected rows."
   ]
  },
  {
   "cell_type": "code",
   "execution_count": 9,
   "id": "18afa71b-79cb-46c8-b842-7a2587f4a5e4",
   "metadata": {},
   "outputs": [
    {
     "name": "stdout",
     "output_type": "stream",
     "text": [
      "Mean: 30.0\n",
      "Median: 30.0\n",
      "Standard Deviation: 15.811388300841896\n"
     ]
    }
   ],
   "source": [
    "#Q9.\n",
    "\n",
    "import pandas as pd\n",
    "\n",
    "def calculate_stats(df):\n",
    "    if 'Values' not in df.columns:\n",
    "        raise ValueError(\"DataFrame must contain a 'Values' column.\")\n",
    "\n",
    "    mean = df['Values'].mean()\n",
    "    median = df['Values'].median()\n",
    "    std_dev = df['Values'].std()\n",
    "\n",
    "    return mean, median, std_dev\n",
    "\n",
    "# Example usage:\n",
    "data = {'Values': [10, 20, 30, 40, 50]}\n",
    "df = pd.DataFrame(data)\n",
    "mean_value, median_value, std_dev_value = calculate_stats(df)\n",
    "\n",
    "print(\"Mean:\", mean_value)\n",
    "print(\"Median:\", median_value)\n",
    "print(\"Standard Deviation:\", std_dev_value)"
   ]
  },
  {
   "cell_type": "code",
   "execution_count": null,
   "id": "57141e83-80ef-4f35-9579-aed81a3f8f84",
   "metadata": {},
   "outputs": [],
   "source": [
    "#Q10.\n",
    "\n",
    "import pandas as pd\n",
    "\n",
    "def calculate_moving_average(df):\n",
    "    df['MovingAverage'] = df['Sales'].rolling(window=7, min_periods=1).mean()\n",
    "    return df\n",
    "\n",
    "# Sample DataFrame with 'Sales' and 'Date' columns\n",
    "data = {'Date': pd.date_range(start='2023-01-01', periods=30),\n",
    "        'Sales': [10, 15, 20, 18, 25, 30, 22, 19, 17, 23, 29, 35, 21, 16, 12, 28, 32, 24, 26, 14, 31, 27, 33, 37, 40, 36, 39, 42, 38, 41, 45]}\n",
    "df = pd.DataFrame(data)\n",
    "\n",
    "# Call the function to calculate moving average\n",
    "df = calculate_moving_average(df)\n",
    "\n",
    "print(df)\n",
    "\n",
    "#In this example, the function calculate_moving_average() calculates the moving average of the 'Sales' column over a window of size 7 for each row in the DataFrame. The min_periods=1 argument ensures that even if there are fewer than 7 days of data available, the moving average is still computed."
   ]
  },
  {
   "cell_type": "code",
   "execution_count": 11,
   "id": "daecdb9a-c8a2-477c-9fa4-603c2842c068",
   "metadata": {},
   "outputs": [
    {
     "name": "stdout",
     "output_type": "stream",
     "text": [
      "        Date    Weekday\n",
      "0 2023-01-01     Sunday\n",
      "1 2023-01-02     Monday\n",
      "2 2023-01-03    Tuesday\n",
      "3 2023-01-04  Wednesday\n",
      "4 2023-01-05   Thursday\n"
     ]
    }
   ],
   "source": [
    "#Q11.\n",
    "\n",
    "import pandas as pd\n",
    "\n",
    "def add_weekday_column(df):\n",
    "    # Convert the 'Date' column to datetime format\n",
    "    df['Date'] = pd.to_datetime(df['Date'])\n",
    "\n",
    "    # Create a new column 'Weekday' containing the weekday names\n",
    "    df['Weekday'] = df['Date'].dt.strftime('%A')\n",
    "\n",
    "    return df\n",
    "\n",
    "# Sample DataFrame\n",
    "data = {'Date': ['2023-01-01', '2023-01-02', '2023-01-03', '2023-01-04', '2023-01-05']}\n",
    "df = pd.DataFrame(data)\n",
    "\n",
    "# Call the function to add the 'Weekday' column\n",
    "df = add_weekday_column(df)\n",
    "\n",
    "print(df)\n",
    "\n",
    "#This function first converts the 'Date' column to the datetime format using pd.to_datetime(). Then, it creates a new column 'Weekday' using the .dt.strftime('%A') method, which extracts the weekday names from the datetime values in the 'Date' column."
   ]
  },
  {
   "cell_type": "code",
   "execution_count": 12,
   "id": "174bc157-8c5d-4bea-a705-0e1270e36c57",
   "metadata": {},
   "outputs": [
    {
     "name": "stdout",
     "output_type": "stream",
     "text": [
      "        Date\n",
      "0 2023-01-15\n",
      "1 2023-01-20\n",
      "3 2023-01-05\n"
     ]
    }
   ],
   "source": [
    "#Q12.\n",
    "\n",
    "import pandas as pd\n",
    "\n",
    "def select_rows_between_dates(df, start_date, end_date):\n",
    "    df['Date'] = pd.to_datetime(df['Date'])  # Convert 'Date' column to datetime if it's not already\n",
    "\n",
    "    mask = (df['Date'] >= start_date) & (df['Date'] <= end_date)\n",
    "    selected_rows = df[mask]\n",
    "\n",
    "    return selected_rows\n",
    "\n",
    "# Example usage\n",
    "data = {'Date': ['2023-01-15', '2023-01-20', '2023-02-10', '2023-01-05']}\n",
    "df = pd.DataFrame(data)\n",
    "start_date = '2023-01-01'\n",
    "end_date = '2023-01-31'\n",
    "\n",
    "selected_data = select_rows_between_dates(df, start_date, end_date)\n",
    "print(selected_data)"
   ]
  },
  {
   "cell_type": "code",
   "execution_count": null,
   "id": "2e9dd8c8-4a07-42ed-9690-409fb368af75",
   "metadata": {},
   "outputs": [],
   "source": [
    "#Q13.\n",
    "\n",
    "#The first and foremost necessary library that needs to be imported to use the basic functions of pandas is, unsurprisingly, the pandas library itself. we can import it using the following line of code:\n",
    "\n",
    "import pandas as pd\n",
    "\n",
    "#By convention, the pd alias is commonly used for the pandas library to make it easier to reference its functions and classes throughout our code. Once we've imported pandas, we can start using its powerful data manipulation and analysis capabilities."
   ]
  }
 ],
 "metadata": {
  "kernelspec": {
   "display_name": "Python 3 (ipykernel)",
   "language": "python",
   "name": "python3"
  },
  "language_info": {
   "codemirror_mode": {
    "name": "ipython",
    "version": 3
   },
   "file_extension": ".py",
   "mimetype": "text/x-python",
   "name": "python",
   "nbconvert_exporter": "python",
   "pygments_lexer": "ipython3",
   "version": "3.10.8"
  }
 },
 "nbformat": 4,
 "nbformat_minor": 5
}
